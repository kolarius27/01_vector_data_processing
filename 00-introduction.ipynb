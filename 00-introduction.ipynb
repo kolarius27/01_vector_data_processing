{
 "cells": [
  {
   "cell_type": "markdown",
   "metadata": {
    "slideshow": {
     "slide_type": "slide"
    }
   },
   "source": [
    "# Part 1: Introduction to Vector Data Processing in Python"
   ]
  },
  {
   "cell_type": "markdown",
   "metadata": {
    "slideshow": {
     "slide_type": "fragment"
    }
   },
   "source": [
    "You probably know the ogr package for vector data processing in Python. But that's not all. This notebook will give you a short overview of other Python packages used for vector data processing in Python. We will look at: \n",
    "\n",
    "* geojson\n",
    "* fiona\n",
    "* shapely\n",
    "\n",
    "During the course we will mainly work with GeoJSON files instead of shapefiles. Therefore, the first section of this notebook gives a brief explanation of this format. "
   ]
  },
  {
   "cell_type": "markdown",
   "metadata": {
    "slideshow": {
     "slide_type": "slide"
    }
   },
   "source": [
    "## 1. The GeoJSON Format"
   ]
  },
  {
   "cell_type": "markdown",
   "metadata": {
    "slideshow": {
     "slide_type": "fragment"
    }
   },
   "source": [
    "[GeoJSON](https://geojson.org/) is a format for encoding a variety of geographic data structures. "
   ]
  },
  {
   "cell_type": "markdown",
   "metadata": {
    "slideshow": {
     "slide_type": "fragment"
    }
   },
   "source": [
    "It is __based on JavaScript Object Notation (JSON)__ which is an open standard file format, and data interchange format, that uses __human-readable text__ to store and transmit data objects consisting of __attribute–value pairs and array data types__ (or any other serializable value). [Wikipedia](https://en.wikipedia.org/wiki/JSON)"
   ]
  },
  {
   "cell_type": "markdown",
   "metadata": {
    "slideshow": {
     "slide_type": "fragment"
    }
   },
   "source": [
    "\n",
    "A __feature__ object contains a __geometry__ and additional __properties__. "
   ]
  },
  {
   "cell_type": "markdown",
   "metadata": {
    "slideshow": {
     "slide_type": "-"
    }
   },
   "source": [
    "``` python\n",
    "{\n",
    "  \"type\": \"Feature\",\n",
    "  \"geometry\": {\n",
    "    \"type\": \"Point\",\n",
    "    \"coordinates\": [125.6, 10.1]\n",
    "  },\n",
    "  \"properties\": {\n",
    "    \"name\": \"Dinagat Islands\"\n",
    "  }\n",
    "}\n",
    "```"
   ]
  },
  {
   "cell_type": "markdown",
   "metadata": {
    "slideshow": {
     "slide_type": "slide"
    }
   },
   "source": [
    "GeoJSON supports the following geometry types: \n",
    "* Point \n",
    "* LineString \n",
    "* Polygon\n",
    "* MultiPoint \n",
    "* MultiLineString\n",
    "* MultiPolygon"
   ]
  },
  {
   "cell_type": "markdown",
   "metadata": {
    "slideshow": {
     "slide_type": "slide"
    }
   },
   "source": [
    "A __Feature Collection__ object contains sets of features."
   ]
  },
  {
   "cell_type": "markdown",
   "metadata": {
    "slideshow": {
     "slide_type": "-"
    }
   },
   "source": [
    "``` python \n",
    "{\n",
    "    \"type\":\"FeatureCollection\",\n",
    "        \"features\":[{\"type\":\"Feature\",\n",
    "                     \"properties\":{...},\n",
    "                     \"geometry\": {...},\n",
    "                    {\"type\":\"Feature\",\n",
    "                     \"properties\":{...},\n",
    "                     \"geometry\":{...}\n",
    "                    }]\n",
    "}\n",
    "```"
   ]
  },
  {
   "cell_type": "markdown",
   "metadata": {
    "slideshow": {
     "slide_type": "fragment"
    }
   },
   "source": [
    "#### __Question:__ \n",
    "\n",
    "Which data types in Python are suitable to represent geojson data in Python? "
   ]
  },
  {
   "cell_type": "markdown",
   "metadata": {
    "slideshow": {
     "slide_type": "slide"
    }
   },
   "source": [
    "Why we use GeoJSON in this course: \n",
    "* Very good integration in Python as dictionaries &rarr; easily read using `json` or `geojson` packages\n",
    "* GeoJSON supported by many packages: `fiona`, `shapely`, `geopandas` (all other GDAL file formats are supported as well)\n",
    "* Readible by humans and machines\n",
    "* Web APIs use json/geojson as reponse format"
   ]
  },
  {
   "cell_type": "markdown",
   "metadata": {
    "slideshow": {
     "slide_type": "slide"
    }
   },
   "source": [
    "## 2. `json` / `geojson`: Reading json / geojson files"
   ]
  },
  {
   "cell_type": "markdown",
   "metadata": {
    "slideshow": {
     "slide_type": "-"
    }
   },
   "source": [
    "The `json` package makes reading and writing json files easy in Python: "
   ]
  },
  {
   "cell_type": "markdown",
   "metadata": {
    "slideshow": {
     "slide_type": "fragment"
    }
   },
   "source": [
    "### Encoding and Decoding GeoJSON \n",
    "\n",
    "`json.load()`/`json.loads()` for decoding: file connection / string &rarr; dict\n",
    "\n",
    "`json.dump()`/`json.dumps()` for encoding: dict &rarr; file connection / string"
   ]
  },
  {
   "cell_type": "markdown",
   "metadata": {
    "slideshow": {
     "slide_type": "slide"
    }
   },
   "source": [
    "### Reading the following file using `json.open()`"
   ]
  },
  {
   "cell_type": "code",
   "execution_count": 12,
   "metadata": {
    "slideshow": {
     "slide_type": "-"
    }
   },
   "outputs": [],
   "source": [
    "file_path = \"./data/some_features.geojson\""
   ]
  },
  {
   "cell_type": "code",
   "execution_count": 13,
   "metadata": {
    "slideshow": {
     "slide_type": "fragment"
    }
   },
   "outputs": [],
   "source": [
    "import json\n",
    "src = open(file_path, \"r\")\n",
    "data_geojson = json.load(src)\n",
    "src.close()"
   ]
  },
  {
   "cell_type": "code",
   "execution_count": 14,
   "metadata": {
    "slideshow": {
     "slide_type": "fragment"
    }
   },
   "outputs": [
    {
     "data": {
      "text/plain": [
       "dict"
      ]
     },
     "execution_count": 14,
     "metadata": {},
     "output_type": "execute_result"
    }
   ],
   "source": [
    "type(data_geojson)"
   ]
  },
  {
   "cell_type": "code",
   "execution_count": 15,
   "metadata": {
    "slideshow": {
     "slide_type": "slide"
    }
   },
   "outputs": [
    {
     "data": {
      "text/plain": [
       "{'type': 'FeatureCollection',\n",
       " 'features': [{'type': 'Feature',\n",
       "   'properties': {'color': 'green', 'id': 1},\n",
       "   'geometry': {'type': 'Polygon',\n",
       "    'coordinates': [[[8.670530319213867, 49.41337442939828],\n",
       "      [8.685293197631836, 49.41337442939828],\n",
       "      [8.685293197631836, 49.421861555723595],\n",
       "      [8.670530319213867, 49.421861555723595],\n",
       "      [8.670530319213867, 49.41337442939828]]]}},\n",
       "  {'type': 'Feature',\n",
       "   'properties': {'color': 'blue', 'id': 2},\n",
       "   'geometry': {'type': 'Polygon',\n",
       "    'coordinates': [[[8.680486679077148, 49.418455714236885],\n",
       "      [8.69619369506836, 49.418455714236885],\n",
       "      [8.69619369506836, 49.42833758576036],\n",
       "      [8.680486679077148, 49.42833758576036],\n",
       "      [8.680486679077148, 49.418455714236885]],\n",
       "     [[8.688468933105469, 49.42398310798032],\n",
       "      [8.693962097167969, 49.42398310798032],\n",
       "      [8.693962097167969, 49.426607006252176],\n",
       "      [8.688468933105469, 49.426607006252176],\n",
       "      [8.688468933105469, 49.42398310798032]]]}}]}"
      ]
     },
     "execution_count": 15,
     "metadata": {},
     "output_type": "execute_result"
    }
   ],
   "source": [
    "data_geojson"
   ]
  },
  {
   "cell_type": "markdown",
   "metadata": {
    "slideshow": {
     "slide_type": "slide"
    }
   },
   "source": [
    "### Tipp: Use context managers to read and write data in Python\n",
    "When you open a file connection to read it, it is very important that you explicitly close it afterwards to avoid conflicts in file access with other programs. This is done using the `close()` method. However, we tend to forget it from time to time which can lead to problems in file access."
   ]
  },
  {
   "cell_type": "markdown",
   "metadata": {
    "slideshow": {
     "slide_type": "fragment"
    }
   },
   "source": [
    "To avoid this __Context managers__ are very helpful. You create them using the ```with ... as ...:``` statement. Everything inside the block is executed while the file is open. Afterwards the file is closed automatically. "
   ]
  },
  {
   "cell_type": "code",
   "execution_count": 16,
   "metadata": {
    "slideshow": {
     "slide_type": "fragment"
    }
   },
   "outputs": [],
   "source": [
    "with open(file_path, \"r\") as src:\n",
    "    data_geojson = json.load(src)"
   ]
  },
  {
   "cell_type": "code",
   "execution_count": 17,
   "metadata": {
    "slideshow": {
     "slide_type": "fragment"
    }
   },
   "outputs": [
    {
     "data": {
      "text/plain": [
       "{'type': 'FeatureCollection',\n",
       " 'features': [{'type': 'Feature',\n",
       "   'properties': {'color': 'green', 'id': 1},\n",
       "   'geometry': {'type': 'Polygon',\n",
       "    'coordinates': [[[8.670530319213867, 49.41337442939828],\n",
       "      [8.685293197631836, 49.41337442939828],\n",
       "      [8.685293197631836, 49.421861555723595],\n",
       "      [8.670530319213867, 49.421861555723595],\n",
       "      [8.670530319213867, 49.41337442939828]]]}},\n",
       "  {'type': 'Feature',\n",
       "   'properties': {'color': 'blue', 'id': 2},\n",
       "   'geometry': {'type': 'Polygon',\n",
       "    'coordinates': [[[8.680486679077148, 49.418455714236885],\n",
       "      [8.69619369506836, 49.418455714236885],\n",
       "      [8.69619369506836, 49.42833758576036],\n",
       "      [8.680486679077148, 49.42833758576036],\n",
       "      [8.680486679077148, 49.418455714236885]],\n",
       "     [[8.688468933105469, 49.42398310798032],\n",
       "      [8.693962097167969, 49.42398310798032],\n",
       "      [8.693962097167969, 49.426607006252176],\n",
       "      [8.688468933105469, 49.426607006252176],\n",
       "      [8.688468933105469, 49.42398310798032]]]}}]}"
      ]
     },
     "execution_count": 17,
     "metadata": {},
     "output_type": "execute_result"
    }
   ],
   "source": [
    "data_geojson"
   ]
  },
  {
   "cell_type": "markdown",
   "metadata": {
    "slideshow": {
     "slide_type": "slide"
    }
   },
   "source": [
    "### Accessing items from the dictionary"
   ]
  },
  {
   "cell_type": "markdown",
   "metadata": {
    "slideshow": {
     "slide_type": "-"
    }
   },
   "source": [
    "__E:__ Extract the coordinates of the first feature. "
   ]
  },
  {
   "cell_type": "code",
   "execution_count": 18,
   "metadata": {
    "slideshow": {
     "slide_type": "fragment"
    }
   },
   "outputs": [
    {
     "data": {
      "text/plain": [
       "[[[8.670530319213867, 49.41337442939828],\n",
       "  [8.685293197631836, 49.41337442939828],\n",
       "  [8.685293197631836, 49.421861555723595],\n",
       "  [8.670530319213867, 49.421861555723595],\n",
       "  [8.670530319213867, 49.41337442939828]]]"
      ]
     },
     "execution_count": 18,
     "metadata": {},
     "output_type": "execute_result"
    }
   ],
   "source": [
    "data_geojson['features'][0]['geometry']['coordinates']"
   ]
  },
  {
   "cell_type": "markdown",
   "metadata": {
    "slideshow": {
     "slide_type": "slide"
    }
   },
   "source": [
    "### The `geojson` package\n",
    "The `geojson` package is based on the `json` package but offers additional classes to represent different geometry types e.g. `geojson.feature.Polygon`.\n",
    "\n",
    "&rarr; Check out the [geojson package documentation](https://pypi.org/project/geojson) if you are interested"
   ]
  },
  {
   "cell_type": "code",
   "execution_count": 19,
   "metadata": {
    "slideshow": {
     "slide_type": "fragment"
    }
   },
   "outputs": [],
   "source": [
    "import geojson\n",
    "with open(file_path, \"r\") as src:\n",
    "    data_geojson = geojson.loads(src.read())"
   ]
  },
  {
   "cell_type": "code",
   "execution_count": 20,
   "metadata": {
    "slideshow": {
     "slide_type": "fragment"
    }
   },
   "outputs": [
    {
     "data": {
      "text/plain": [
       "geojson.feature.FeatureCollection"
      ]
     },
     "execution_count": 20,
     "metadata": {},
     "output_type": "execute_result"
    }
   ],
   "source": [
    "type(data_geojson)"
   ]
  },
  {
   "cell_type": "code",
   "execution_count": 21,
   "metadata": {
    "slideshow": {
     "slide_type": "fragment"
    }
   },
   "outputs": [],
   "source": [
    "polygon = data_geojson[\"features\"][0][\"geometry\"]"
   ]
  },
  {
   "cell_type": "code",
   "execution_count": 22,
   "metadata": {
    "slideshow": {
     "slide_type": "fragment"
    }
   },
   "outputs": [
    {
     "data": {
      "text/plain": [
       "geojson.geometry.Polygon"
      ]
     },
     "execution_count": 22,
     "metadata": {},
     "output_type": "execute_result"
    }
   ],
   "source": [
    "type(polygon)"
   ]
  },
  {
   "cell_type": "markdown",
   "metadata": {
    "slideshow": {
     "slide_type": "slide"
    }
   },
   "source": [
    "### Creating a new feature and converting it to geojson"
   ]
  },
  {
   "cell_type": "code",
   "execution_count": 23,
   "metadata": {
    "slideshow": {
     "slide_type": "fragment"
    }
   },
   "outputs": [],
   "source": [
    "new_feature = geojson.Feature(geometry=polygon, properties={\"id\": 321})\n",
    "new_feature_geojson = geojson.dumps(new_feature)"
   ]
  },
  {
   "cell_type": "code",
   "execution_count": 24,
   "metadata": {
    "slideshow": {
     "slide_type": "fragment"
    }
   },
   "outputs": [
    {
     "data": {
      "text/plain": [
       "str"
      ]
     },
     "execution_count": 24,
     "metadata": {},
     "output_type": "execute_result"
    }
   ],
   "source": [
    "type(new_feature_geojson)"
   ]
  },
  {
   "cell_type": "code",
   "execution_count": 25,
   "metadata": {
    "slideshow": {
     "slide_type": "fragment"
    }
   },
   "outputs": [
    {
     "data": {
      "text/plain": [
       "'{\"type\": \"Feature\", \"geometry\": {\"type\": \"Polygon\", \"coordinates\": [[[8.67053, 49.413374], [8.685293, 49.413374], [8.685293, 49.421862], [8.67053, 49.421862], [8.67053, 49.413374]]]}, \"properties\": {\"id\": 321}}'"
      ]
     },
     "execution_count": 25,
     "metadata": {},
     "output_type": "execute_result"
    }
   ],
   "source": [
    "new_feature_geojson"
   ]
  },
  {
   "cell_type": "markdown",
   "metadata": {
    "slideshow": {
     "slide_type": "slide"
    }
   },
   "source": [
    "## 3. `fiona`: Reading and writing Geographic Data\n",
    "\n",
    "\"[Fiona] focuses on reading and writing data in standard Python IO style and relies upon familiar Python types and protocols such as files, dictionaries, mappings, and iterators instead of classes specific to GDAL's OpenGIS Reference Implementation (OGR).\" \n",
    "\n",
    "&rarr; Check out the [Fiona Documentation](https://github.com/Toblerity/Fiona)"
   ]
  },
  {
   "cell_type": "markdown",
   "metadata": {
    "slideshow": {
     "slide_type": "fragment"
    }
   },
   "source": [
    "#### BTW: Why the name?\n",
    "ogr &rarr; \"Oger\" &rarr; Shrek the Movie &rarr; Fiona"
   ]
  },
  {
   "cell_type": "markdown",
   "metadata": {
    "slideshow": {
     "slide_type": "slide"
    }
   },
   "source": [
    "### Reading data"
   ]
  },
  {
   "cell_type": "markdown",
   "metadata": {
    "slideshow": {
     "slide_type": "fragment"
    }
   },
   "source": [
    "Opening a file using `fiona.open()` and extracting metadata from the file: "
   ]
  },
  {
   "cell_type": "code",
   "execution_count": 26,
   "metadata": {
    "scrolled": true,
    "slideshow": {
     "slide_type": "fragment"
    }
   },
   "outputs": [],
   "source": [
    "import fiona\n",
    "source = fiona.open(file_path)\n",
    "features = list(source)\n",
    "crs = source.crs\n",
    "metadata = source.meta\n",
    "source.close()"
   ]
  },
  {
   "cell_type": "markdown",
   "metadata": {
    "slideshow": {
     "slide_type": "fragment"
    }
   },
   "source": [
    "__E 3.1:__ Wait this looks like we could use a Context Manager again! Reformat the above code so that it uses a context manager."
   ]
  },
  {
   "cell_type": "code",
   "execution_count": null,
   "metadata": {
    "slideshow": {
     "slide_type": "slide"
    }
   },
   "outputs": [],
   "source": []
  },
  {
   "cell_type": "markdown",
   "metadata": {},
   "source": [
    "### Writing data\n",
    "Writing data to file using fiona works in a similar way. You just need to pass `mode='w'` to the `open()` method.\n",
    "\n",
    "The default is `'r'` which stands for reading, while `'w'` stands for writing.\n",
    "\n",
    "When you create a new file you need to tell `fiona` the metadata of that file, e.g. driver, schema, etc. In this example we will just use the meta information of the input file contained in the `metadata` variable. "
   ]
  },
  {
   "cell_type": "markdown",
   "metadata": {},
   "source": [
    "Writing the first feature of the original file to a new file looks like:"
   ]
  },
  {
   "cell_type": "code",
   "execution_count": 27,
   "metadata": {},
   "outputs": [],
   "source": [
    "outfile = \"./data/test_out.geojson\"\n",
    "with fiona.open(outfile, \"w\", **metadata) as dst:\n",
    "    dst.write(features[0])"
   ]
  },
  {
   "cell_type": "markdown",
   "metadata": {},
   "source": [
    "### Exercises:"
   ]
  },
  {
   "cell_type": "markdown",
   "metadata": {},
   "source": [
    "__E 3.2:__  Extract all __features__, the __crs__ (coordinate reference system) and the __schema__ from the following file using `fiona`.\n",
    "\n",
    "__Hint:__ Place the mouse cursor next to the dot after the variable name and press `TAB` to show all available attributes and methods. "
   ]
  },
  {
   "cell_type": "markdown",
   "metadata": {},
   "source": [
    "<img src=\"./img/show_methods.png\" alt=\"show_methods\" style=\"width: 400px;\"/>"
   ]
  },
  {
   "cell_type": "code",
   "execution_count": 28,
   "metadata": {},
   "outputs": [],
   "source": [
    "file_path_2 = \"./data/some_features.geojson\""
   ]
  },
  {
   "cell_type": "code",
   "execution_count": 29,
   "metadata": {},
   "outputs": [],
   "source": [
    "with fiona.open(file_path_2) as src:\n",
    "    features = list(src)\n",
    "    metadata = src.meta\n",
    "    coor_sys = src.crs"
   ]
  },
  {
   "cell_type": "markdown",
   "metadata": {},
   "source": [
    "__Questions:__\n",
    "1. What how many features are contained in the geojson file? \n",
    "2. What is the difference between the geometries of the features?"
   ]
  },
  {
   "cell_type": "markdown",
   "metadata": {},
   "source": [
    "__Answer:__"
   ]
  },
  {
   "cell_type": "markdown",
   "metadata": {},
   "source": [
    "__E 3.3:__ Save the features to separate new variables 'feature1' and 'feature2'."
   ]
  },
  {
   "cell_type": "code",
   "execution_count": 30,
   "metadata": {},
   "outputs": [],
   "source": [
    "feature1 = features[0]\n",
    "feature2 = features[1]"
   ]
  },
  {
   "cell_type": "markdown",
   "metadata": {},
   "source": [
    "__E 3.4:__ Print the coordinates of feature2."
   ]
  },
  {
   "cell_type": "code",
   "execution_count": 31,
   "metadata": {},
   "outputs": [
    {
     "name": "stdout",
     "output_type": "stream",
     "text": [
      "[[(8.670530319213867, 49.41337442939828), (8.685293197631836, 49.41337442939828), (8.685293197631836, 49.421861555723595), (8.670530319213867, 49.421861555723595), (8.670530319213867, 49.41337442939828)]]\n",
      "[[(8.680486679077148, 49.418455714236885), (8.69619369506836, 49.418455714236885), (8.69619369506836, 49.42833758576036), (8.680486679077148, 49.42833758576036), (8.680486679077148, 49.418455714236885)], [(8.688468933105469, 49.42398310798032), (8.693962097167969, 49.42398310798032), (8.693962097167969, 49.426607006252176), (8.688468933105469, 49.426607006252176), (8.688468933105469, 49.42398310798032)]]\n"
     ]
    }
   ],
   "source": [
    "print(feature1['geometry']['coordinates'])\n",
    "print(feature2['geometry']['coordinates'])"
   ]
  },
  {
   "cell_type": "markdown",
   "metadata": {},
   "source": [
    "__E 3.5:__ Fill the hole of the geometry of `feature2` by manipulating the geojson dictionary. Afterwards, execute the cell above again to see how the coordinates changed."
   ]
  },
  {
   "cell_type": "code",
   "execution_count": 32,
   "metadata": {},
   "outputs": [],
   "source": [
    "feature3 = feature2.copy()"
   ]
  },
  {
   "cell_type": "code",
   "execution_count": 33,
   "metadata": {},
   "outputs": [],
   "source": [
    "feature3['geometry']['coordinates']=[feature3['geometry']['coordinates'][0]]"
   ]
  },
  {
   "cell_type": "markdown",
   "metadata": {
    "slideshow": {
     "slide_type": "slide"
    }
   },
   "source": [
    "## 4. `shapely`: Geometric Operations and Manipulations\n",
    "\n",
    "Removing a hole from a polygon is easy when it is represented as a dictionary, but what if we want to perform more complex geometric operations such as intersections between two geometries? In this case, we need more complex data structures than a dictionary.\n",
    "\n",
    "`shapely` is the perfect tool for this! It converts dictionary-like objects to geometry objects and allows us to perform geospatial operations. \n",
    "\n",
    "&rarr; Check out the [Shapely User Manual](https://shapely.readthedocs.io/en/stable/manual.html)"
   ]
  },
  {
   "cell_type": "markdown",
   "metadata": {
    "slideshow": {
     "slide_type": "slide"
    }
   },
   "source": [
    "### Creating geometry objects \n",
    "Shapely supports the same geometry types as GeoJSON (see above)."
   ]
  },
  {
   "cell_type": "code",
   "execution_count": 34,
   "metadata": {},
   "outputs": [],
   "source": [
    "from shapely.geometry import Point"
   ]
  },
  {
   "cell_type": "code",
   "execution_count": 35,
   "metadata": {},
   "outputs": [
    {
     "data": {
      "text/plain": [
       "shapely.geometry.point.Point"
      ]
     },
     "execution_count": 35,
     "metadata": {},
     "output_type": "execute_result"
    }
   ],
   "source": [
    "point = Point(8.69, 49.41)\n",
    "type(point)"
   ]
  },
  {
   "cell_type": "code",
   "execution_count": 36,
   "metadata": {},
   "outputs": [
    {
     "data": {
      "image/svg+xml": [
       "<svg xmlns=\"http://www.w3.org/2000/svg\" xmlns:xlink=\"http://www.w3.org/1999/xlink\" width=\"100.0\" height=\"100.0\" viewBox=\"7.6899999999999995 48.41 2.0 2.0\" preserveAspectRatio=\"xMinYMin meet\"><g transform=\"matrix(1,0,0,-1,0,98.82)\"><circle cx=\"8.69\" cy=\"49.41\" r=\"0.06\" stroke=\"#555555\" stroke-width=\"0.02\" fill=\"#66cc99\" opacity=\"0.6\" /></g></svg>"
      ],
      "text/plain": [
       "<shapely.geometry.point.Point at 0x296a4997c48>"
      ]
     },
     "execution_count": 36,
     "metadata": {},
     "output_type": "execute_result"
    }
   ],
   "source": [
    "point"
   ]
  },
  {
   "cell_type": "code",
   "execution_count": 37,
   "metadata": {},
   "outputs": [
    {
     "data": {
      "text/plain": [
       "8.69"
      ]
     },
     "execution_count": 37,
     "metadata": {},
     "output_type": "execute_result"
    }
   ],
   "source": [
    "point.x"
   ]
  },
  {
   "cell_type": "markdown",
   "metadata": {},
   "source": [
    "### Convert geojson to geometry objects\n",
    "Using the method `shapely.geometry.shape` you can convert GeoJSON dictionaries to geometry objects."
   ]
  },
  {
   "cell_type": "code",
   "execution_count": 38,
   "metadata": {},
   "outputs": [],
   "source": [
    "from shapely.geometry import shape"
   ]
  },
  {
   "cell_type": "code",
   "execution_count": 39,
   "metadata": {},
   "outputs": [
    {
     "data": {
      "image/svg+xml": [
       "<svg xmlns=\"http://www.w3.org/2000/svg\" xmlns:xlink=\"http://www.w3.org/1999/xlink\" width=\"100.0\" height=\"100.0\" viewBox=\"8.6798583984375 49.41782743359724 0.016963577270509234 0.011138432802766829\" preserveAspectRatio=\"xMinYMin meet\"><g transform=\"matrix(1,0,0,-1,0,98.84679329999724)\"><path fill-rule=\"evenodd\" fill=\"#66cc99\" stroke=\"#555555\" stroke-width=\"0.00033927154541018467\" opacity=\"0.6\" d=\"M 8.680486679077148,49.418455714236885 L 8.69619369506836,49.418455714236885 L 8.69619369506836,49.42833758576036 L 8.680486679077148,49.42833758576036 L 8.680486679077148,49.418455714236885 z\" /></g></svg>"
      ],
      "text/plain": [
       "<shapely.geometry.polygon.Polygon at 0x296a51339c8>"
      ]
     },
     "execution_count": 39,
     "metadata": {},
     "output_type": "execute_result"
    }
   ],
   "source": [
    "geometry1 = feature2[\"geometry\"]\n",
    "polygon1 = shape(geometry1)\n",
    "polygon1"
   ]
  },
  {
   "cell_type": "markdown",
   "metadata": {
    "slideshow": {
     "slide_type": "slide"
    }
   },
   "source": [
    "### Geometry operations "
   ]
  },
  {
   "cell_type": "markdown",
   "metadata": {
    "slideshow": {
     "slide_type": "fragment"
    }
   },
   "source": [
    "The geometry obejcts contain __attributes and methods which allow geometric operations.__ "
   ]
  },
  {
   "cell_type": "code",
   "execution_count": 40,
   "metadata": {},
   "outputs": [
    {
     "data": {
      "image/svg+xml": [
       "<svg xmlns=\"http://www.w3.org/2000/svg\" xmlns:xlink=\"http://www.w3.org/1999/xlink\" width=\"100.0\" height=\"100.0\" viewBox=\"7.688340187072754 48.42339664999862 2.0 2.0\" preserveAspectRatio=\"xMinYMin meet\"><g transform=\"matrix(1,0,0,-1,0,98.84679329999724)\"><circle cx=\"8.688340187072754\" cy=\"49.42339664999862\" r=\"0.06\" stroke=\"#555555\" stroke-width=\"0.02\" fill=\"#66cc99\" opacity=\"0.6\" /></g></svg>"
      ],
      "text/plain": [
       "<shapely.geometry.point.Point at 0x296a5133e88>"
      ]
     },
     "execution_count": 40,
     "metadata": {},
     "output_type": "execute_result"
    }
   ],
   "source": [
    "polygon1.centroid"
   ]
  },
  {
   "cell_type": "code",
   "execution_count": 41,
   "metadata": {},
   "outputs": [
    {
     "data": {
      "text/plain": [
       "False"
      ]
     },
     "execution_count": 41,
     "metadata": {},
     "output_type": "execute_result"
    }
   ],
   "source": [
    "point.within(polygon1)"
   ]
  },
  {
   "cell_type": "markdown",
   "metadata": {
    "slideshow": {
     "slide_type": "slide"
    }
   },
   "source": [
    "### Converting geometry to geojson\n",
    "Converting geometry obejcts to geojson is done using `shapely.geometry.mapping()`."
   ]
  },
  {
   "cell_type": "code",
   "execution_count": 42,
   "metadata": {
    "slideshow": {
     "slide_type": "fragment"
    }
   },
   "outputs": [
    {
     "data": {
      "text/plain": [
       "{'type': 'Polygon',\n",
       " 'coordinates': (((8.680486679077148, 49.418455714236885),\n",
       "   (8.69619369506836, 49.418455714236885),\n",
       "   (8.69619369506836, 49.42833758576036),\n",
       "   (8.680486679077148, 49.42833758576036),\n",
       "   (8.680486679077148, 49.418455714236885)),)}"
      ]
     },
     "execution_count": 42,
     "metadata": {},
     "output_type": "execute_result"
    }
   ],
   "source": [
    "from shapely.geometry import mapping\n",
    "mapping(polygon1)"
   ]
  },
  {
   "cell_type": "markdown",
   "metadata": {
    "slideshow": {
     "slide_type": "slide"
    }
   },
   "source": [
    "### Exercises:"
   ]
  },
  {
   "cell_type": "markdown",
   "metadata": {},
   "source": [
    "__E 4.1:__ Create a rectangle geometry with a hole using shapely."
   ]
  },
  {
   "cell_type": "code",
   "execution_count": 43,
   "metadata": {},
   "outputs": [
    {
     "data": {
      "image/svg+xml": [
       "<svg xmlns=\"http://www.w3.org/2000/svg\" xmlns:xlink=\"http://www.w3.org/1999/xlink\" width=\"100.0\" height=\"100.0\" viewBox=\"-0.4 -0.4 10.8 10.8\" preserveAspectRatio=\"xMinYMin meet\"><g transform=\"matrix(1,0,0,-1,0,10.0)\"><path fill-rule=\"evenodd\" fill=\"#66cc99\" stroke=\"#555555\" stroke-width=\"0.21600000000000003\" opacity=\"0.6\" d=\"M 0.0,0.0 L 10.0,0.0 L 10.0,10.0 L 0.0,10.0 L 0.0,0.0 z M 4.0,4.0 L 4.0,6.0 L 6.0,6.0 L 6.0,4.0 L 4.0,4.0 z\" /></g></svg>"
      ],
      "text/plain": [
       "<shapely.geometry.polygon.Polygon at 0x296a51a6448>"
      ]
     },
     "execution_count": 43,
     "metadata": {},
     "output_type": "execute_result"
    }
   ],
   "source": [
    "from shapely.geometry import Polygon\n",
    "exte = [(0, 0), (10, 0), (10, 10), (0, 10), (0, 0)]\n",
    "inte = [(4, 4), (6, 4), (6, 6), (4, 6), (4, 4)][::-1]\n",
    "rectangle = Polygon(exte, [inte])\n",
    "rectangle"
   ]
  },
  {
   "cell_type": "markdown",
   "metadata": {},
   "source": [
    "__E 4.2:__ Create a point which is located inside the rectangle."
   ]
  },
  {
   "cell_type": "code",
   "execution_count": 44,
   "metadata": {},
   "outputs": [],
   "source": [
    "point = Point(3,3)"
   ]
  },
  {
   "cell_type": "markdown",
   "metadata": {},
   "source": [
    "__E 4.3:__ Use the a suitbale shapely method to check whether the point is inside the rectangle."
   ]
  },
  {
   "cell_type": "code",
   "execution_count": 45,
   "metadata": {},
   "outputs": [
    {
     "data": {
      "text/plain": [
       "True"
      ]
     },
     "execution_count": 45,
     "metadata": {},
     "output_type": "execute_result"
    }
   ],
   "source": [
    "point.within(rectangle)"
   ]
  },
  {
   "cell_type": "markdown",
   "metadata": {},
   "source": [
    "__E 4.4:__ Convert the geometry of the second feature to a `shapely.geometry.Polygon` called `polygon2`."
   ]
  },
  {
   "cell_type": "code",
   "execution_count": 46,
   "metadata": {},
   "outputs": [],
   "source": [
    "polygon2 = shape(feature2[\"geometry\"])"
   ]
  },
  {
   "cell_type": "markdown",
   "metadata": {},
   "source": [
    "__E 4.6:__ Calculate the intersection between `poylgon1` and `poylgon2`."
   ]
  },
  {
   "cell_type": "code",
   "execution_count": 49,
   "metadata": {},
   "outputs": [],
   "source": [
    "intersect = polygon1.intersection(polygon2)"
   ]
  },
  {
   "cell_type": "code",
   "execution_count": 50,
   "metadata": {},
   "outputs": [
    {
     "data": {
      "text/plain": [
       "0.00015521471404232384"
      ]
     },
     "execution_count": 50,
     "metadata": {},
     "output_type": "execute_result"
    }
   ],
   "source": [
    "intersect.area"
   ]
  },
  {
   "cell_type": "markdown",
   "metadata": {
    "slideshow": {
     "slide_type": "slide"
    }
   },
   "source": [
    "## 5.  Summary\n",
    "* geojson and json in general work) very well with Python.\n",
    "* shapely and fiona provide classes to represent geospatial data and perform geospatial analyses in Python.\n",
    "* Of course there are more relevant packages, e.g. [pyproj](https://pyproj4.github.io/pyproj/stable/) to transform geometries to different coordinate reference systems"
   ]
  },
  {
   "cell_type": "markdown",
   "metadata": {
    "slideshow": {
     "slide_type": "fragment"
    }
   },
   "source": [
    "### But wait ...\n",
    "We already have the ogr package to do the same things? So why do we need shapely and fiona? \n",
    "\n",
    "&rarr; Continue with [Part 2: Why all these packages](./01-Why_all_these_packages.ipynb) to find out. "
   ]
  },
  {
   "cell_type": "markdown",
   "metadata": {
    "slideshow": {
     "slide_type": "slide"
    }
   },
   "source": [
    "## References:\n",
    "\n",
    "[GeoJSON](https://geojson.org/)\n",
    "\n",
    "[Geojson python package Documentation](https://pypi.org/project/geojson)\n",
    "\n",
    "[Fiona Documentation](https://github.com/Toblerity/Fiona)\n",
    "\n",
    "[Shapely User Manual](https://shapely.readthedocs.io/en/stable/manual.html)\n",
    "\n",
    "[pyproj Documentation](https://pyproj4.github.io/pyproj/stable/)\n",
    "\n",
    "[Getting Started on Geospatial Analysis with Python, GeoJSON and GeoPandas](https://www.twilio.com/blog/2017/08/geospatial-analysis-python-geojson-geopandas.html)\n",
    "\n",
    "\n",
    "        "
   ]
  }
 ],
 "metadata": {
  "celltoolbar": "Slideshow",
  "kernelspec": {
   "display_name": "Python 3",
   "language": "python",
   "name": "python3"
  },
  "language_info": {
   "codemirror_mode": {
    "name": "ipython",
    "version": 3
   },
   "file_extension": ".py",
   "mimetype": "text/x-python",
   "name": "python",
   "nbconvert_exporter": "python",
   "pygments_lexer": "ipython3",
   "version": "3.7.10"
  }
 },
 "nbformat": 4,
 "nbformat_minor": 2
}
